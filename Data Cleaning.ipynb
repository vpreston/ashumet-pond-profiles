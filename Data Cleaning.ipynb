{
 "cells": [
  {
   "cell_type": "markdown",
   "metadata": {},
   "source": [
    "# Data Cleaning for Ashumet Pond Deployment"
   ]
  },
  {
   "cell_type": "code",
   "execution_count": 2,
   "metadata": {
    "collapsed": false
   },
   "outputs": [],
   "source": [
    "import pandas as pd\n",
    "import numpy as np\n",
    "import matplotlib.pyplot as plt\n",
    "import matplotlib\n",
    "% matplotlib inline\n",
    "import seaborn as sns\n",
    "from IPython.display import display\n",
    "import sensor_cleaning as sc\n",
    "\n",
    "#Raw Data\n",
    "CTD_filename = '../raw_data/CTD/data.txt'\n",
    "GGA_filename= '../raw_data/GGA/gga_2017-11-07_f0001.txt'\n",
    "Op1_filename='../raw_data/Optode/optode_20170711193737.txt'\n",
    "Op2_filename='../raw_data/Optode/optode_20170711193856.txt'\n",
    "Op3_filename='../raw_data/Optode/optode_20170711194316.txt'\n",
    "Op4_filename='../raw_data/Optode/optode_20170712144117.txt'\n",
    "Op5_filename='../raw_data/Optode/optode_20170712155518.txt'\n",
    "Op6_filename='../raw_data/Optode/optode_20170712194058.txt'\n",
    "Op7_filename='../raw_data/Optode/optode_20171107205007_edited.csv'\n",
    "AirMar1_filename='../raw_data/Airmar/airmar_20171104005858.txt'\n",
    "AirMar2_filename='../raw_data/Airmar/airmar_20171104010024.txt'\n",
    "AirMar3_filename='../raw_data/Airmar/airmar_20171104011151.txt'\n",
    "AirMar4_filename='../raw_data/Airmar/airmar_20171107204920_edited.csv'\n",
    "# DGE_filename= './DGE/dge_170712_wareham_jetyak_deployment.dat'\n",
    "Nitrate1_filename = '../raw_data/Nitrate/suna_20171107205108.csv'\n",
    "Nitrate2_filename= '../raw_data/Nitrate/suna_20171107205108.csv'\n",
    "# Nitrate3_filename= './Nitrate/A0066324.CSV'\n",
    "\n",
    "# PANDAS dataframe display options\n",
    "pd.set_option('display.max_columns', None)\n",
    "\n",
    "# more info at http://matplotlib.org/users/customizing.html\n",
    "plt.rcParams['xtick.labelsize'] = 14\n",
    "plt.rcParams['ytick.labelsize'] = 14\n",
    "plt.rcParams['axes.labelsize'] = 14\n",
    "plt.rcParams['axes.titlesize'] = 16"
   ]
  },
  {
   "cell_type": "code",
   "execution_count": 15,
   "metadata": {
    "collapsed": false
   },
   "outputs": [
    {
     "data": {
      "text/html": [
       "<div>\n",
       "<table border=\"1\" class=\"dataframe\">\n",
       "  <thead>\n",
       "    <tr style=\"text-align: right;\">\n",
       "      <th></th>\n",
       "      <th>Time</th>\n",
       "      <th>Conductivity</th>\n",
       "      <th>Temperature</th>\n",
       "      <th>Pressure</th>\n",
       "      <th>Sea pressure</th>\n",
       "      <th>Depth</th>\n",
       "      <th>Salinity</th>\n",
       "      <th>Speed of sound</th>\n",
       "      <th>Specific conductivity</th>\n",
       "      <th>Density anomaly</th>\n",
       "      <th>Year</th>\n",
       "      <th>Month</th>\n",
       "      <th>Day</th>\n",
       "      <th>Hour</th>\n",
       "      <th>Minute</th>\n",
       "      <th>Second</th>\n",
       "      <th>Julian_Date</th>\n",
       "      <th>Seconds_Elapsed</th>\n",
       "    </tr>\n",
       "  </thead>\n",
       "  <tbody>\n",
       "    <tr>\n",
       "      <th>0</th>\n",
       "      <td>2017-11-07 15:21:38.000</td>\n",
       "      <td>-0.000466</td>\n",
       "      <td>10.490164</td>\n",
       "      <td>10.211379</td>\n",
       "      <td>0.078879</td>\n",
       "      <td>0.078235</td>\n",
       "      <td>0.005569</td>\n",
       "      <td>1449.222811</td>\n",
       "      <td>-0.644394</td>\n",
       "      <td>-0.338158</td>\n",
       "      <td>2017</td>\n",
       "      <td>11</td>\n",
       "      <td>7</td>\n",
       "      <td>15.0</td>\n",
       "      <td>21.0</td>\n",
       "      <td>38.0</td>\n",
       "      <td>2.458065e+06</td>\n",
       "      <td>660098.0</td>\n",
       "    </tr>\n",
       "    <tr>\n",
       "      <th>1</th>\n",
       "      <td>2017-11-07 15:21:38.500</td>\n",
       "      <td>0.000384</td>\n",
       "      <td>10.506810</td>\n",
       "      <td>10.211848</td>\n",
       "      <td>0.079348</td>\n",
       "      <td>0.078701</td>\n",
       "      <td>0.005384</td>\n",
       "      <td>1449.287870</td>\n",
       "      <td>0.531430</td>\n",
       "      <td>-0.339880</td>\n",
       "      <td>2017</td>\n",
       "      <td>11</td>\n",
       "      <td>7</td>\n",
       "      <td>15.0</td>\n",
       "      <td>21.0</td>\n",
       "      <td>38.5</td>\n",
       "      <td>2.458065e+06</td>\n",
       "      <td>660098.5</td>\n",
       "    </tr>\n",
       "  </tbody>\n",
       "</table>\n",
       "</div>"
      ],
      "text/plain": [
       "                      Time  Conductivity  Temperature   Pressure  \\\n",
       "0  2017-11-07 15:21:38.000     -0.000466    10.490164  10.211379   \n",
       "1  2017-11-07 15:21:38.500      0.000384    10.506810  10.211848   \n",
       "\n",
       "   Sea pressure     Depth  Salinity  Speed of sound  Specific conductivity  \\\n",
       "0      0.078879  0.078235  0.005569     1449.222811              -0.644394   \n",
       "1      0.079348  0.078701  0.005384     1449.287870               0.531430   \n",
       "\n",
       "   Density anomaly  Year  Month  Day  Hour  Minute  Second   Julian_Date  \\\n",
       "0        -0.338158  2017     11    7  15.0    21.0    38.0  2.458065e+06   \n",
       "1        -0.339880  2017     11    7  15.0    21.0    38.5  2.458065e+06   \n",
       "\n",
       "   Seconds_Elapsed  \n",
       "0         660098.0  \n",
       "1         660098.5  "
      ]
     },
     "execution_count": 15,
     "metadata": {},
     "output_type": "execute_result"
    },
    {
     "data": {
      "image/png": "[encoded data removed]",
      "text/plain": [
       "<matplotlib.figure.Figure at 0x7f578f91bb90>"
      ]
     },
     "metadata": {},
     "output_type": "display_data"
    }
   ],
   "source": [
    "# Read and clean the CTD information\n",
    "ctd = pd.read_table(CTD_filename, delimiter=',', header=0)\n",
    "ctd = sc.clean_ctd(ctd)\n",
    "\n",
    "# Based on observations of the data made, grab only information within a relevant timeframe\n",
    "ctd = ctd.drop(ctd[ctd.Julian_Date > (0.3 + 2458065)].index)\n",
    "# ctd = ctd.drop(ctd[ctd.Julian_Date < (1.117 + 2457946)].index)\n",
    "\n",
    "plt.plot(ctd['Julian_Date'], ctd['Salinity'])\n",
    "\n",
    "ctd.head(2)"
   ]
  },
  {
   "cell_type": "code",
   "execution_count": 16,
   "metadata": {
    "collapsed": false
   },
   "outputs": [
    {
     "data": {
      "text/html": [
       "<div>\n",
       "<table border=\"1\" class=\"dataframe\">\n",
       "  <thead>\n",
       "    <tr style=\"text-align: right;\">\n",
       "      <th></th>\n",
       "      <th>Time</th>\n",
       "      <th>Year</th>\n",
       "      <th>Month</th>\n",
       "      <th>Day</th>\n",
       "      <th>Hour</th>\n",
       "      <th>Minute</th>\n",
       "      <th>Second</th>\n",
       "      <th>Seconds_Elapsed</th>\n",
       "      <th>Julian_Date</th>\n",
       "      <th>CH4_ppm</th>\n",
       "      <th>CO2_ppm</th>\n",
       "      <th>CH4_ppm_adjusted</th>\n",
       "      <th>CO2_ppm_adjusted</th>\n",
       "    </tr>\n",
       "  </thead>\n",
       "  <tbody>\n",
       "    <tr>\n",
       "      <th>0</th>\n",
       "      <td>01/01/2000 00:00:20.387</td>\n",
       "      <td>2000</td>\n",
       "      <td>1</td>\n",
       "      <td>1</td>\n",
       "      <td>0.0</td>\n",
       "      <td>0.0</td>\n",
       "      <td>20.387</td>\n",
       "      <td>86420.387</td>\n",
       "      <td>2.451545e+06</td>\n",
       "      <td>10.1647</td>\n",
       "      <td>1567.48</td>\n",
       "      <td>13.427284</td>\n",
       "      <td>458.380938</td>\n",
       "    </tr>\n",
       "    <tr>\n",
       "      <th>1</th>\n",
       "      <td>01/01/2000 00:00:21.364</td>\n",
       "      <td>2000</td>\n",
       "      <td>1</td>\n",
       "      <td>1</td>\n",
       "      <td>0.0</td>\n",
       "      <td>0.0</td>\n",
       "      <td>21.364</td>\n",
       "      <td>86421.364</td>\n",
       "      <td>2.451545e+06</td>\n",
       "      <td>10.1900</td>\n",
       "      <td>1565.45</td>\n",
       "      <td>13.466749</td>\n",
       "      <td>457.787301</td>\n",
       "    </tr>\n",
       "  </tbody>\n",
       "</table>\n",
       "</div>"
      ],
      "text/plain": [
       "                      Time  Year  Month  Day  Hour  Minute  Second  \\\n",
       "0  01/01/2000 00:00:20.387  2000      1    1   0.0     0.0  20.387   \n",
       "1  01/01/2000 00:00:21.364  2000      1    1   0.0     0.0  21.364   \n",
       "\n",
       "   Seconds_Elapsed   Julian_Date  CH4_ppm  CO2_ppm  CH4_ppm_adjusted  \\\n",
       "0        86420.387  2.451545e+06  10.1647  1567.48         13.427284   \n",
       "1        86421.364  2.451545e+06  10.1900  1565.45         13.466749   \n",
       "\n",
       "   CO2_ppm_adjusted  \n",
       "0        458.380938  \n",
       "1        457.787301  "
      ]
     },
     "execution_count": 16,
     "metadata": {},
     "output_type": "execute_result"
    },
    {
     "data": {
      "image/png": "[encoded data removed]",
      "text/plain": [
       "<matplotlib.figure.Figure at 0x7f5791d19410>"
      ]
     },
     "metadata": {},
     "output_type": "display_data"
    }
   ],
   "source": [
    "# Read and clean the GGA information\n",
    "gga = pd.read_table(GGA_filename, delimiter=', ', header=1, engine='python')\n",
    "gga = sc.clean_gga(gga)\n",
    "\n",
    "# Only keep the columns with useful information\n",
    "gga = gga.loc[:,['Time',\n",
    "                 'Year',\n",
    "                 'Month',\n",
    "                 'Day',\n",
    "                 'Hour',\n",
    "                 'Minute',\n",
    "                 'Second',\n",
    "                 'Seconds_Elapsed',\n",
    "                 'Julian_Date',\n",
    "                 'CH4_ppm',\n",
    "                 'CO2_ppm',\n",
    "                 'CH4_ppm_adjusted',\n",
    "                 'CO2_ppm_adjusted']]\n",
    "\n",
    "# plt.plot(gga['Julian_Date'], gga['CO2_ppm_adjusted'])\n",
    "\n",
    "gga = gga.drop(gga[gga.Julian_Date > (0.3 + 2458065)].index)\n",
    "# gga = gga.drop(gga[gga.Julian_Date < (1.117 + 2457946)].index)\n",
    "\n",
    "plt.plot(gga['Julian_Date'], gga['CO2_ppm_adjusted'])\n",
    "\n",
    "gga.head(2)"
   ]
  },
  {
   "cell_type": "code",
   "execution_count": null,
   "metadata": {
    "collapsed": true
   },
   "outputs": [],
   "source": []
  }
 ],
 "metadata": {
  "kernelspec": {
   "display_name": "Python 2",
   "language": "python",
   "name": "python2"
  },
  "language_info": {
   "codemirror_mode": {
    "name": "ipython",
    "version": 2
   },
   "file_extension": ".py",
   "mimetype": "text/x-python",
   "name": "python",
   "nbconvert_exporter": "python",
   "pygments_lexer": "ipython2",
   "version": "2.7.12"
  }
 },
 "nbformat": 4,
 "nbformat_minor": 0
}
